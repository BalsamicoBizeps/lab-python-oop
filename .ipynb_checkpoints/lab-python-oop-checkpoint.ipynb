{
 "cells": [
  {
   "cell_type": "markdown",
   "id": "25d7736c-ba17-4aff-b6bb-66eba20fbf4e",
   "metadata": {},
   "source": [
    "# Lab | Object Oriented Programming"
   ]
  },
  {
   "cell_type": "markdown",
   "id": "6f8e446f-16b4-4e21-92e7-9d3d1eb551b6",
   "metadata": {},
   "source": [
    "Objective: Practice how to work with OOP using classes, objects, and inheritance to create robust, maintainable, and scalable code."
   ]
  },
  {
   "cell_type": "markdown",
   "id": "20c3e882-9625-471e-afb4-48a4f40c5d1b",
   "metadata": {
    "tags": []
   },
   "source": [
    "## Challenge 1: Bank Account"
   ]
  },
  {
   "cell_type": "markdown",
   "id": "fe982bf8-9610-4de3-aa93-256db5a05903",
   "metadata": {},
   "source": [
    "Create a BankAccount class with the following attributes and methods:\n",
    "\n",
    "Attributes:\n",
    "\n",
    "- account_number (a unique identifier for the bank account)\n",
    "- balance (the current balance of the account. By default, is 0)\n",
    "\n",
    "Methods:\n",
    "\n",
    "- deposit(amount) - adds the specified amount to the account balance\n",
    "- withdraw(amount) - subtracts the specified amount from the account balance\n",
    "- get_balance() - returns the current balance of the account\n",
    "- get_account_number() - returns the account number of the account\n",
    "\n",
    "Instructions:\n",
    "\n",
    "- Create a BankAccount class with the above attributes and methods.\n",
    "- Test the class by creating a few instances of BankAccount and making deposits and withdrawals.\n",
    "- Ensure that the account_number attribute is unique for each instance of BankAccount.\n",
    "\n",
    "*Hint: create a class attribute account_count. The account_count class attribute is used to keep track of the total number of bank accounts that have been created using the BankAccount class. Every time a new BankAccount object is created, the account_count attribute is incremented by one. This can be useful for various purposes, such as generating unique account numbers or monitoring the growth of a bank's customer base.*"
   ]
  },
  {
   "cell_type": "code",
   "execution_count": 5,
   "id": "21625526-3fae-4c55-bab5-f91940070681",
   "metadata": {},
   "outputs": [],
   "source": [
    "# Task 1\n",
    "\n",
    "class BankAccount:\n",
    "    num_accounts = 1000000\n",
    "   \n",
    "    @classmethod\n",
    "    def get_num_accounts(cls):\n",
    "        return cls.num_accounts\n",
    "        \n",
    "    def __init__(self, balance):\n",
    "        self.account_number = BankAccount.num_accounts\n",
    "        self.balance = balance\n",
    "        BankAccount.num_accounts += 1\n",
    "\n",
    "    def deposit(self, amount):\n",
    "        self.balance += amount \n",
    "\n",
    "    def withdraw(self, amount):\n",
    "        if self.balance > amount:\n",
    "            self.balance -= amount \n",
    "        else:\n",
    "            print(f\"Insufficient balance, please change amount of withdrawl. Current balance: {self.balance}\")\n",
    "\n",
    "    def get_balance(self):\n",
    "        return self.balance\n",
    "\n",
    "    def get_account_number(self):\n",
    "        return self.account_number\n",
    "        \n"
   ]
  },
  {
   "cell_type": "code",
   "execution_count": null,
   "id": "b7788c9a-921f-47e0-885f-2239e5ad571e",
   "metadata": {},
   "outputs": [],
   "source": [
    "print(BankAccount.get_num_accounts())"
   ]
  },
  {
   "cell_type": "code",
   "execution_count": null,
   "id": "ee789466-d4cf-4dd8-b742-6863d42c3e5c",
   "metadata": {},
   "outputs": [],
   "source": [
    "# Testing the BankAccount class\n",
    "# Creating two instances of the BankAccount class with initial balances of 1000 and 500\n",
    "account1 = BankAccount(1000)\n",
    "account2 = BankAccount(500)\n",
    "\n",
    "print(\"Account 1 balance:\", account1.get_balance()) # This should print 1000\n",
    "print(\"Account 1 number:\", account1.get_account_number()) # This should print 1\n",
    "\n",
    "print(\"Account 2 balance:\", account2.get_balance()) #This should print 500\n",
    "print(\"Account 2 number:\", account2.get_account_number()) #This should print 2\n",
    "\n",
    "account1.deposit(500) # We depoist 500 in the first account\n",
    "account1.withdraw(200) # We withdraw 200 in the first account\n",
    "print(\"Account 1 balance after transactions:\", account1.get_balance()) # This should print 1300\n",
    "\n",
    "account2.withdraw(600) # We withdraw 600 in the 2nd account \n",
    "print(\"Account 2 balance after transactions:\", account2.get_balance())# This should print insufficient balance, and still 500 in funds"
   ]
  },
  {
   "cell_type": "markdown",
   "id": "929305ed-67cb-4094-8af2-4fa9b751832a",
   "metadata": {},
   "source": [
    "## Challenge 2: Savings Account\n",
    "\n",
    "Create a SavingsAccount class that inherits from the BankAccount class. The SavingsAccount class should have the following additional attributes and methods:\n",
    "\n",
    "Attributes:\n",
    "\n",
    "- interest_rate (the annual interest rate for the savings account. By default - if no value is provided - sets it to 0.01)\n",
    "\n",
    "Methods:\n",
    "\n",
    "- add_interest() - adds the interest earned to the account balance\n",
    "- get_interest_rate() - returns the interest rate for the account\n",
    "\n",
    "Instructions:\n",
    "\n",
    "- Create a SavingsAccount class that inherits from the BankAccount class and has the above attributes and methods.\n",
    "- Test the class by creating a few instances of SavingsAccount and making deposits and withdrawals, as well as adding interest."
   ]
  },
  {
   "cell_type": "code",
   "execution_count": 55,
   "id": "4f8848b5-05d3-4259-9e24-914537926778",
   "metadata": {},
   "outputs": [],
   "source": [
    "class SavingsAccount(BankAccount):\n",
    "    num_s_accounts = 2000000\n",
    "   \n",
    "    @classmethod\n",
    "    def get_num_s_accounts(cls):\n",
    "        return cls.num_s_accounts\n",
    "        \n",
    "    def __init__(self, balance, interest_rate = 0.01):\n",
    "        super().__init__(balance)\n",
    "        self.account_number = SavingsAccount.num_s_accounts\n",
    "        self.interest_rate = interest_rate\n",
    "        SavingsAccount.num_s_accounts += 1\n",
    "\n",
    "    def add_interest(self):\n",
    "        self.balance += self.balance * self.interest_rate\n",
    "\n",
    "    def get_interest_rate(self):\n",
    "        return self.interest_rate\n",
    "\n",
    "    def deposit(self, amount):\n",
    "        super().deposit(amount)\n",
    "\n",
    "    def withdraw(self, amount):\n",
    "        super().withdraw(amount)\n",
    "    \n",
    "    def get_balance(self):\n",
    "        super().get_balance()\n",
    "        return self.balance\n",
    "\n",
    "    def get_account_number(self):\n",
    "        super().get_account_number()\n",
    "        return self.account_number\n",
    "\n"
   ]
  },
  {
   "cell_type": "code",
   "execution_count": 57,
   "id": "84cf08e1-26d2-4a82-b20a-08414eb65316",
   "metadata": {},
   "outputs": [],
   "source": [
    "class SavingsAccount(BankAccount):\n",
    "    num_s_accounts = 2000000\n",
    "   \n",
    "    @classmethod\n",
    "    def get_num_s_accounts(cls):\n",
    "        return cls.num_s_accounts\n",
    "        \n",
    "    def __init__(self, balance, interest_rate = 0.01):\n",
    "        super().__init__(balance)\n",
    "        self.account_number = SavingsAccount.num_s_accounts\n",
    "        self.interest_rate = interest_rate\n",
    "        SavingsAccount.num_s_accounts += 1\n",
    "\n",
    "    def add_interest(self):\n",
    "        self.balance += self.balance * self.interest_rate\n",
    "\n",
    "    def get_interest_rate(self):\n",
    "        return self.interest_rate"
   ]
  },
  {
   "cell_type": "code",
   "execution_count": 61,
   "id": "5ff576c1-db33-441a-b58d-ed6cbfbbe8a3",
   "metadata": {},
   "outputs": [
    {
     "name": "stdout",
     "output_type": "stream",
     "text": [
      "Balance of Savings Account 1 after interest: 102.0.\n",
      "Current Balance:  127.0\n",
      "Interest rate:  0.02\n",
      "Savings account 2 balance after transaction and interest:  257.5\n"
     ]
    }
   ],
   "source": [
    "savings_acccount1 = SavingsAccount(100, interest_rate = 0.02)\n",
    "savings_acccount2 = SavingsAccount(300, interest_rate = 0.03)\n",
    "\n",
    "savings_acccount1.add_interest()\n",
    "print(f\"Balance of Savings Account 1 after interest: {savings_acccount1.get_balance()}.\")\n",
    "\n",
    "savings_acccount1.deposit(50) \n",
    "savings_acccount1.withdraw(25) \n",
    "print(\"Current Balance: \", savings_acccount1.get_balance()) \n",
    "print(\"Interest rate: \", savings_acccount1.get_interest_rate())\n",
    "\n",
    "savings_acccount2.withdraw(50)\n",
    "savings_acccount2.add_interest()\n",
    "print(\"Savings account 2 balance after transaction and interest: \", savings_acccount2.get_balance())"
   ]
  },
  {
   "cell_type": "markdown",
   "id": "d2c84bdb-e7d1-491d-9b0e-194288702c02",
   "metadata": {},
   "source": [
    "Example of testing the SavingsAccount\n",
    "\n",
    "- Create a SavingsAccount object with a balance of $100 and interest rate of 2%\n",
    "\n",
    "- Deposit $50 into the savings account\n",
    "\n",
    "- Withdraw $25 from the savings account\n",
    "\n",
    "- Add interest to the savings account (use the default 0.01)\n",
    "\n",
    "- Print the current balance and interest rate of the savings account\n",
    "\n",
    "Expected output:\n",
    "    \n",
    "    Current balance: 127.5\n",
    "    \n",
    "    Interest rate: 0.02"
   ]
  },
  {
   "cell_type": "code",
   "execution_count": null,
   "id": "bccc7f6d-d58c-4909-9314-aaf4afc1cd30",
   "metadata": {},
   "outputs": [],
   "source": [
    "# your code goes here"
   ]
  },
  {
   "cell_type": "markdown",
   "id": "a5455a88-a8d1-47a6-86b0-7c70647b4f31",
   "metadata": {},
   "source": [
    "### Challenge 3: Checking Account\n",
    "\n",
    "Create a CheckingAccount class that inherits from the BankAccount class. The CheckingAccount class should have the following additional attributes and methods:\n",
    "\n",
    "Attributes:\n",
    "\n",
    "- transaction_fee (the fee charged per transaction. By default is 1$)\n",
    "- transaction_count (the number of transactions made in the current month)\n",
    "\n",
    "Methods:\n",
    "\n",
    "- deduct_fees() - deducts transaction fees from the account balance based on the number of transactions made in the current month and the transaction fee per transaction. The method calculates the total fees by multiplying the transaction count with the transaction fee, and deducts the fees from the account balance if it's sufficient. If the balance is insufficient, it prints an error message. Otherwise, it prints how much it's been deducted. After deducting the fees, the method resets the transaction count to 0.\n",
    "- reset_transactions() - resets the transaction count to 0\n",
    "- get_transaction_count() - returns the current transaction count for the account\n",
    "\n",
    "Instructions:\n",
    "\n",
    "- Create a CheckingAccount class that inherits from the BankAccount class and has the above attributes and methods.\n",
    "- Test the class by creating a few instances of CheckingAccount and making deposits, withdrawals, and transactions to deduct fees.\n",
    "\n",
    "Note: To ensure that the transaction count is updated every time a deposit or withdrawal is made, we need to overwrite the deposit and withdraw methods inherited from the BankAccount class. "
   ]
  },
  {
   "cell_type": "code",
   "execution_count": 9,
   "id": "3c883c6e-3cb8-4043-92d3-12409668a28e",
   "metadata": {},
   "outputs": [],
   "source": [
    "class CheckingAccount(BankAccount):\n",
    "    num_c_accounts = 3000000\n",
    "   \n",
    "    @classmethod\n",
    "    def get_num_c_accounts(cls):\n",
    "        return cls.num_c_accounts\n",
    "        \n",
    "    def __init__(self, balance, transaction_fee = 1, transaction_count = 0):\n",
    "        super().__init__(balance)\n",
    "        self.account_number = CheckingAccount.num_c_accounts\n",
    "        self.transaction_fee = transaction_fee\n",
    "        self.transaction_count = transaction_count\n",
    "        CheckingAccount.num_c_accounts += 1\n",
    "        \n",
    "    def deduct_fees(self):\n",
    "        if self.balance > self.transaction_count:\n",
    "            fees_due = self.transaction_fee * self.transaction_count\n",
    "            self.balance = self.balance - fees_due\n",
    "            self.transaction_count = 0\n",
    "            print(f\"{fees_due}$ in transaction fees have been deducted from your account\")\n",
    "        else:\n",
    "            fees_due = self.transaction_fee * self.transaction_count\n",
    "            print(f\"You owe {fees_due}$ in transaction fees. Your balance is too low, please make a deposit so the fees can be deducted\")\n",
    "\n",
    "    def withdraw(self, amount):\n",
    "        super().withdraw(amount)\n",
    "        self.transaction_count += 1\n",
    "\n",
    "    def deposit(self, amount):\n",
    "        self.balance += amount\n",
    "        self.transaction_count += 1\n",
    "          \n",
    "    def reset_transactions(self):\n",
    "        self.transaction_count = 0\n",
    "\n",
    "    def get_transaction_count(self):\n",
    "        return self.transaction_count\n"
   ]
  },
  {
   "cell_type": "markdown",
   "id": "8217ec46-3eae-4a7c-9c7c-d4a87aac7e6d",
   "metadata": {},
   "source": [
    "Example of testing CheckingAccount:\n",
    "\n",
    "    - Create a new checking account with a balance of 500 dollars and a transaction fee of 2 dollars\n",
    "    - Deposit 100 dollars into the account \n",
    "    - Withdraw 50 dollars from the account \n",
    "    - Deduct the transaction fees from the account\n",
    "    - Get the current balance and transaction count\n",
    "    - Deposit 200 dollars into the account\n",
    "    - Withdraw 75 dollars from the account\n",
    "    - Deduct the transaction fees from the account\n",
    "    - Get the current balance and transaction count again\n",
    "    \n",
    "\n",
    "Expected output:\n",
    "    \n",
    "    Transaction fees of 4$ have been deducted from your account balance.\n",
    "    \n",
    "    Current balance: 546\n",
    "    \n",
    "    Transaction count: 0\n",
    "    \n",
    "    Transaction fees of 4$ have been deducted from your account balance.\n",
    "    \n",
    "    Current balance: 667\n",
    "    \n",
    "    Transaction count: 0\n",
    "\n",
    "Note: *the print \"Transaction fees of 4$ have been deducted from your account balance\" is done in the method deduct_fees*"
   ]
  },
  {
   "cell_type": "code",
   "execution_count": 35,
   "id": "faa5b148-c11b-4be0-b810-de8a7da81451",
   "metadata": {},
   "outputs": [
    {
     "name": "stdout",
     "output_type": "stream",
     "text": [
      "4$ in transaction fees have been deducted from your account\n",
      "Current balance:  546\n",
      "Transaction count:  0\n",
      "4$ in transaction fees have been deducted from your account\n",
      "Current balance:  667\n",
      "Transaction count:  0\n"
     ]
    }
   ],
   "source": [
    "checking_acccount1 = CheckingAccount(500, transaction_fee = 2)\n",
    "\n",
    "checking_acccount1.deposit(100)\n",
    "checking_acccount1.withdraw(50)\n",
    "checking_acccount1.deduct_fees()\n",
    "print(\"Current balance: \", checking_acccount1.get_balance())\n",
    "print(\"Transaction count: \", checking_acccount1.get_transaction_count())\n",
    "checking_acccount1.deposit(200)\n",
    "checking_acccount1.withdraw(75)\n",
    "checking_acccount1.deduct_fees()\n",
    "print(\"Current balance: \", checking_acccount1.get_balance())\n",
    "print(\"Transaction count: \", checking_acccount1.get_transaction_count())\n"
   ]
  }
 ],
 "metadata": {
  "kernelspec": {
   "display_name": "Python 3 (ipykernel)",
   "language": "python",
   "name": "python3"
  },
  "language_info": {
   "codemirror_mode": {
    "name": "ipython",
    "version": 3
   },
   "file_extension": ".py",
   "mimetype": "text/x-python",
   "name": "python",
   "nbconvert_exporter": "python",
   "pygments_lexer": "ipython3",
   "version": "3.12.4"
  }
 },
 "nbformat": 4,
 "nbformat_minor": 5
}
